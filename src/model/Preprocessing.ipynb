{
 "cells": [
  {
   "cell_type": "markdown",
   "metadata": {},
   "source": [
    "# Libraries"
   ]
  },
  {
   "cell_type": "code",
   "execution_count": 1,
   "metadata": {},
   "outputs": [],
   "source": [
    "import os\n",
    "\n",
    "import torch\n",
    "import yaml\n",
    "import time\n",
    "import torch\n",
    "import torch.nn as nn\n",
    "import torch.nn.functional as F\n",
    "from torch import nn\n",
    "from torch.optim.lr_scheduler import LambdaLR\n",
    "from dataset import make_dataset, make_dataloader #dataset containing noise \n",
    "\n",
    "from orignial_dataset import make_dataset as original_make_dataset\n",
    "from orignial_dataset import make_dataloader as original_make_dataloader\n",
    "from sklearn.model_selection import train_test_split\n",
    "\n",
    "\n",
    "from tqdm import tqdm\n",
    "\n",
    "import numpy as np\n",
    "from torch import nn\n",
    "from torchsummary import summary\n",
    "\n"
   ]
  },
  {
   "cell_type": "markdown",
   "metadata": {},
   "source": [
    "# Data Processing"
   ]
  },
  {
   "cell_type": "code",
   "execution_count": 2,
   "metadata": {},
   "outputs": [],
   "source": [
    "def min_max_scaling (data):\n",
    "    \"\"\"\n",
    "    shape data: [channels, freqs, time]\n",
    "    return: normalize data by each channel \n",
    "    \"\"\"\n",
    "    num_channels = data.size(0)\n",
    "\n",
    "    normalized_data = torch.zeros_like(data)\n",
    "\n",
    "    for channel in range(num_channels):\n",
    "        min_val = torch.min(data[channel])\n",
    "        max_val = torch.max(data[channel]) \n",
    "        # Perform min-max normalization\n",
    "        normalized_data[channel] = (data[channel] - min_val) / (max_val - min_val)\n",
    "\n",
    "    return normalized_data"
   ]
  },
  {
   "cell_type": "code",
   "execution_count": 3,
   "metadata": {},
   "outputs": [],
   "source": [
    "other_config = {'modality': 'wifi-csi',\n",
    "                        'protocol': 'protocol1',\n",
    "                        'data_unit': 'frame',\n",
    "                        'random_split': {'ratio': 0.8,\n",
    "                                         'random_seed': 42,\n",
    "                                         'train_dataset': {'split': 'training',\n",
    "                                                            'scenes': 'None',\n",
    "                                                            'subjects': 'None',\n",
    "                                                          'actions': 'all'},\n",
    "                                          'val_dataset': {'split': 'validation',\n",
    "                                                          'scenes': 'None',\n",
    "                                                          'subjects': 'None',\n",
    "                                                          'actions': 'all'}},\n",
    "                        'cross_scene_split': {'train_dataset': {'split': 'training',\n",
    "                                              'scenes': ['E01', 'E02', 'E03'],\n",
    "                                              'subjects': 'None',\n",
    "                                              'actions': 'all'},\n",
    "                                              'val_dataset': {'split': 'validation',\n",
    "                                                              'scenes': ['E04'],\n",
    "                                                              'subjects': 'None',\n",
    "                                                              'actions': 'all'}},\n",
    "                        'cross_subject_split': {'train_dataset': {'split': 'training',\n",
    "                                                                  'scenes': 'None',\n",
    "                                                                  'subjects': ['S01','S02','S03','S04','S06','S07','S08','S09','S11','S12','S13','S14','S16','S17','S18','S19','S21','S22','S23','S24','S26','S27','S28','S29','S31','S32','S33','S34','S36','S37','S38','S39'],\n",
    "                                                                  'actions': 'all'},\n",
    "                                                'val_dataset': {'split': 'validation',\n",
    "                                                                'scenes': 'None',\n",
    "                                                                'subjects': ['S05', 'S10', 'S15', 'S20', 'S25', 'S30', 'S35', 'S40'],\n",
    "                                                                'actions': 'all'}},\n",
    "                        'manual_split': {'train_dataset': {'split': 'training',\n",
    "                                                           'scenes': 'None',\n",
    "                                                           'subjects': ['S01','S02','S03','S04','S05','S06','S07','S08','S09','S10','S11','S12','S13','S14','S15','S16','S17','S18','S19','S20','S21','S22','S23','S24','S25','S26','S27','S28','S29','S30','S31','S32','S33','S34','S35','S36','S37','S38','S39','S40'],\n",
    "                                                           'actions': ['A01','A02','A03','A04','A05','A06','A07','A08','A09','A10','A11','A12','A13','A14','A15','A16','A17','A18','A19','A20','A21']},\n",
    "                                          'val_dataset': {'split': 'validation',\n",
    "                                                          'scenes': 'None',\n",
    "                                                          'subjects': ['S01','S02','S03','S04','S05','S06','S07','S08','S09','S10','S11','S12','S13','S14','S15','S16','S17','S18','S19','S20','S21','S22','S23','S24','S25','S26','S27','S28','S29','S30','S31','S32','S33','S34','S35','S36','S37','S38','S39','S40'],\n",
    "                                                          'actions': ['A22', 'A23', 'A24', 'A25', 'A26', 'A27']}},\n",
    "                        'split_to_use': 'random_split',\n",
    "                        'init_rand_seed': 0,\n",
    "                        'data_root': '/home/nxhoang/Work/HPE-VinUni/Data',\n",
    "                        'AE_checkpoint': '/home/nxhoang/Work/HPE-VinUni/src/model/checkpoints/AE_model_best.pth',\n",
    "                        'combined_checkpoint': '/home/nxhoang/Work/HPE-VinUni/src/model/checkpoints/combined_model_best.pth'}"
   ]
  },
  {
   "cell_type": "code",
   "execution_count": 4,
   "metadata": {},
   "outputs": [],
   "source": [
    "# #data set contains noise \n",
    "# train_dataset_noise, test_dataset_noise = make_dataset(other_config[\"data_root\"], other_config) #train_dataset gom n mau, moi mau gom\n"
   ]
  },
  {
   "cell_type": "code",
   "execution_count": 5,
   "metadata": {},
   "outputs": [],
   "source": [
    "# train_noise30_norm = []\n",
    "\n",
    "# for i in range(len(train_dataset_noise)):\n",
    "#     train_noise30_norm.append( (min_max_scaling(train_dataset_noise[i][0]), min_max_scaling(train_dataset_noise[i][1])) )\n",
    "    \n",
    "# torch.save(train_noise30_norm, 'train_noise30_norm.pt')"
   ]
  },
  {
   "cell_type": "code",
   "execution_count": 6,
   "metadata": {},
   "outputs": [],
   "source": [
    "# test_noise20_norm = []\n",
    "\n",
    "# for i in range(len(test_dataset_noise)):\n",
    "#     test_noise20_norm.append( (min_max_scaling(test_dataset_noise[i][0]), min_max_scaling(test_dataset_noise[i][1])) )\n",
    "\n",
    "# torch.save(test_noise20_norm , 'test_noise30_norm.pt')"
   ]
  },
  {
   "cell_type": "code",
   "execution_count": null,
   "metadata": {},
   "outputs": [],
   "source": []
  }
 ],
 "metadata": {
  "kernelspec": {
   "display_name": "Python 3",
   "language": "python",
   "name": "python3"
  },
  "language_info": {
   "codemirror_mode": {
    "name": "ipython",
    "version": 3
   },
   "file_extension": ".py",
   "mimetype": "text/x-python",
   "name": "python",
   "nbconvert_exporter": "python",
   "pygments_lexer": "ipython3",
   "version": "3.7.6"
  }
 },
 "nbformat": 4,
 "nbformat_minor": 2
}
